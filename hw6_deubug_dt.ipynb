{
  "nbformat": 4,
  "nbformat_minor": 0,
  "metadata": {
    "colab": {
      "name": "Copy of hw6_deubug_dt.ipynb",
      "provenance": [],
      "collapsed_sections": [],
      "authorship_tag": "ABX9TyMAwmBNjwVLrfrETN2u0fvH",
      "include_colab_link": true
    },
    "kernelspec": {
      "name": "python3",
      "display_name": "Python 3"
    },
    "language_info": {
      "name": "python"
    }
  },
  "cells": [
    {
      "cell_type": "markdown",
      "metadata": {
        "id": "view-in-github",
        "colab_type": "text"
      },
      "source": [
        "<a href=\"https://colab.research.google.com/github/dstaylor37/fantastic-octo-dollop/blob/main/hw6_deubug_dt.ipynb\" target=\"_parent\"><img src=\"https://colab.research.google.com/assets/colab-badge.svg\" alt=\"Open In Colab\"/></a>"
      ]
    },
    {
      "cell_type": "code",
      "metadata": {
        "colab": {
          "base_uri": "https://localhost:8080/",
          "height": 105
        },
        "id": "wUCNQXpsdcJp",
        "outputId": "202d0094-a4d7-45d4-b623-dde9353c9e6b"
      },
      "source": [
        "'''\n",
        "Put your comments here. Explain briefly what this program is\n",
        "attempting to accomplish.\n",
        "\n",
        "Name: <Put your name here>\n",
        "'''\n",
        "#universal  constants\n",
        "#calcuated fields based on user input\n",
        "countPositive = 0.0\n",
        "countNegative = 0.0\n",
        "total = 0.0\n",
        "count = 1.0\n",
        "num = 0.0\n",
        "#avg = mean(int(total))/len(count)\n",
        "\n",
        "#user inputs\n",
        "num = int(input(\"Enter an integer. Enter 0 to end input: \"))\n",
        "#get user input in the form of a +-/ integer.\n",
        "while (num != 0):\n",
        "  #num = int(num)\n",
        "  if int(num) > 0 :\n",
        "      countPositive = countPositive + 1\n",
        "  elif int(num) < 0:\n",
        "      countNegative = countNegative + 1\n",
        "  #creates a running tally of the numbers entered and the count of numbers    \n",
        "  total = int(num) + int(total)\n",
        "  count = 1 + int(count)\n",
        "      \n",
        "#    Read the next number\n",
        "  num = input(\"Enter an integer. Enter 0 to end input: \")\n",
        "  if (count == 0):\n",
        "    print(\"No numbers are entered except 0\")\n",
        "  elif (count != 0):\n",
        "    print(\"The number of positives is\", countPositive)\n",
        "    print(\"The number of negatives is\", countNegative)\n",
        "    print(\"The total is\", total)\n",
        "  else: #(num == 0):\n",
        "    print(\"The average is\", total / count)\n",
        "'''\n",
        "Test-run\n",
        "\n",
        "Enter an integer, the input ends if it is 0: 9\n",
        "Enter an integer, the input ends if it is 0: -35\n",
        "Enter an integer, the input ends if it is 0: 13\n",
        "Enter an integer, the input ends if it is 0: 355\n",
        "Enter an integer, the input ends if it is 0: -4\n",
        "Enter an integer, the input ends if it is 0: 290\n",
        "Enter an integer, the input ends if it is 0: 1\n",
        "Enter an integer, the input ends if it is 0: 0\n",
        "The number of positives is 5\n",
        "The number of negatives is 2\n",
        "The total is 629\n",
        "The average is 89.85714285714286\n",
        "'''"
      ],
      "execution_count": 4,
      "outputs": [
        {
          "name": "stdout",
          "output_type": "stream",
          "text": [
            "Enter an integer. Enter 0 to end input: 0\n"
          ]
        },
        {
          "output_type": "execute_result",
          "data": {
            "application/vnd.google.colaboratory.intrinsic+json": {
              "type": "string"
            },
            "text/plain": [
              "'\\nTest-run\\n\\nEnter an integer, the input ends if it is 0: 9\\nEnter an integer, the input ends if it is 0: -35\\nEnter an integer, the input ends if it is 0: 13\\nEnter an integer, the input ends if it is 0: 355\\nEnter an integer, the input ends if it is 0: -4\\nEnter an integer, the input ends if it is 0: 290\\nEnter an integer, the input ends if it is 0: 1\\nEnter an integer, the input ends if it is 0: 0\\nThe number of positives is 5\\nThe number of negatives is 2\\nThe total is 629\\nThe average is 89.85714285714286\\n'"
            ]
          },
          "metadata": {},
          "execution_count": 4
        }
      ]
    },
    {
      "cell_type": "code",
      "metadata": {
        "colab": {
          "base_uri": "https://localhost:8080/",
          "height": 693
        },
        "id": "4TFVRFkKt2LM",
        "outputId": "01df6422-87e7-4fe3-cd7c-b0c8c1860fe6"
      },
      "source": [
        "#universal  constants\n",
        "#calcuated fields based on user input\n",
        "countPositive = 0.0\n",
        "countNegative = 0.0\n",
        "total = 0.0\n",
        "count = 1.0\n",
        "num=str(num)\n",
        "#avg = mean(int(total))/len(count)\n",
        "\n",
        "#user inputs\n",
        "num = int(input(\"Enter an integer. Enter 0 to end input: \"))\n",
        "#get user input in the form of a +-/ integer.\n",
        "while (num != 0):\n",
        "  #num = int(num)\n",
        "  if int(num) > 0 :\n",
        "      countPositive = countPositive + 1\n",
        "  elif int(num) < 0:\n",
        "      countNegative = countNegative + 1\n",
        "  #creates a running tally of the numbers entered and the count of numbers    \n",
        "  total = int(num) + int(total)\n",
        "  count = 1 + int(count)\n",
        "      \n",
        "#    Read the next number\n",
        "  num = input(\"Enter an integer. Enter 0 to end input: \")\n",
        "  if (count == 0):\n",
        "    print(\"No numbers are entered except 0\")\n",
        "  elif (count != 0):\n",
        "    print(\"The number of positives is\", countPositive)\n",
        "    print(\"The number of negatives is\", countNegative)\n",
        "    print(\"The total is\", total)\n",
        "  else: #(num == 0):\n",
        "    print(\"The average is\", total / count)"
      ],
      "execution_count": null,
      "outputs": [
        {
          "output_type": "stream",
          "name": "stdout",
          "text": [
            "Enter an integer. Enter 0 to end input: 9\n",
            "Enter an integer. Enter 0 to end input: -355\n",
            "The number of positives is 1.0\n",
            "The number of negatives is 0.0\n",
            "The total is 9\n",
            "Enter an integer. Enter 0 to end input: 13\n",
            "The number of positives is 1.0\n",
            "The number of negatives is 1.0\n",
            "The total is -346\n"
          ]
        },
        {
          "output_type": "error",
          "ename": "KeyboardInterrupt",
          "evalue": "ignored",
          "traceback": [
            "\u001b[0;31m---------------------------------------------------------------------------\u001b[0m",
            "\u001b[0;31mKeyboardInterrupt\u001b[0m                         Traceback (most recent call last)",
            "\u001b[0;32m/usr/local/lib/python3.7/dist-packages/ipykernel/kernelbase.py\u001b[0m in \u001b[0;36m_input_request\u001b[0;34m(self, prompt, ident, parent, password)\u001b[0m\n\u001b[1;32m    728\u001b[0m             \u001b[0;32mtry\u001b[0m\u001b[0;34m:\u001b[0m\u001b[0;34m\u001b[0m\u001b[0;34m\u001b[0m\u001b[0m\n\u001b[0;32m--> 729\u001b[0;31m                 \u001b[0mident\u001b[0m\u001b[0;34m,\u001b[0m \u001b[0mreply\u001b[0m \u001b[0;34m=\u001b[0m \u001b[0mself\u001b[0m\u001b[0;34m.\u001b[0m\u001b[0msession\u001b[0m\u001b[0;34m.\u001b[0m\u001b[0mrecv\u001b[0m\u001b[0;34m(\u001b[0m\u001b[0mself\u001b[0m\u001b[0;34m.\u001b[0m\u001b[0mstdin_socket\u001b[0m\u001b[0;34m,\u001b[0m \u001b[0;36m0\u001b[0m\u001b[0;34m)\u001b[0m\u001b[0;34m\u001b[0m\u001b[0;34m\u001b[0m\u001b[0m\n\u001b[0m\u001b[1;32m    730\u001b[0m             \u001b[0;32mexcept\u001b[0m \u001b[0mException\u001b[0m\u001b[0;34m:\u001b[0m\u001b[0;34m\u001b[0m\u001b[0;34m\u001b[0m\u001b[0m\n",
            "\u001b[0;32m/usr/local/lib/python3.7/dist-packages/jupyter_client/session.py\u001b[0m in \u001b[0;36mrecv\u001b[0;34m(self, socket, mode, content, copy)\u001b[0m\n\u001b[1;32m    802\u001b[0m         \u001b[0;32mtry\u001b[0m\u001b[0;34m:\u001b[0m\u001b[0;34m\u001b[0m\u001b[0;34m\u001b[0m\u001b[0m\n\u001b[0;32m--> 803\u001b[0;31m             \u001b[0mmsg_list\u001b[0m \u001b[0;34m=\u001b[0m \u001b[0msocket\u001b[0m\u001b[0;34m.\u001b[0m\u001b[0mrecv_multipart\u001b[0m\u001b[0;34m(\u001b[0m\u001b[0mmode\u001b[0m\u001b[0;34m,\u001b[0m \u001b[0mcopy\u001b[0m\u001b[0;34m=\u001b[0m\u001b[0mcopy\u001b[0m\u001b[0;34m)\u001b[0m\u001b[0;34m\u001b[0m\u001b[0;34m\u001b[0m\u001b[0m\n\u001b[0m\u001b[1;32m    804\u001b[0m         \u001b[0;32mexcept\u001b[0m \u001b[0mzmq\u001b[0m\u001b[0;34m.\u001b[0m\u001b[0mZMQError\u001b[0m \u001b[0;32mas\u001b[0m \u001b[0me\u001b[0m\u001b[0;34m:\u001b[0m\u001b[0;34m\u001b[0m\u001b[0;34m\u001b[0m\u001b[0m\n",
            "\u001b[0;32m/usr/local/lib/python3.7/dist-packages/zmq/sugar/socket.py\u001b[0m in \u001b[0;36mrecv_multipart\u001b[0;34m(self, flags, copy, track)\u001b[0m\n\u001b[1;32m    624\u001b[0m         \"\"\"\n\u001b[0;32m--> 625\u001b[0;31m         \u001b[0mparts\u001b[0m \u001b[0;34m=\u001b[0m \u001b[0;34m[\u001b[0m\u001b[0mself\u001b[0m\u001b[0;34m.\u001b[0m\u001b[0mrecv\u001b[0m\u001b[0;34m(\u001b[0m\u001b[0mflags\u001b[0m\u001b[0;34m,\u001b[0m \u001b[0mcopy\u001b[0m\u001b[0;34m=\u001b[0m\u001b[0mcopy\u001b[0m\u001b[0;34m,\u001b[0m \u001b[0mtrack\u001b[0m\u001b[0;34m=\u001b[0m\u001b[0mtrack\u001b[0m\u001b[0;34m)\u001b[0m\u001b[0;34m]\u001b[0m\u001b[0;34m\u001b[0m\u001b[0;34m\u001b[0m\u001b[0m\n\u001b[0m\u001b[1;32m    626\u001b[0m         \u001b[0;31m# have first part already, only loop while more to receive\u001b[0m\u001b[0;34m\u001b[0m\u001b[0;34m\u001b[0m\u001b[0;34m\u001b[0m\u001b[0m\n",
            "\u001b[0;32mzmq/backend/cython/socket.pyx\u001b[0m in \u001b[0;36mzmq.backend.cython.socket.Socket.recv\u001b[0;34m()\u001b[0m\n",
            "\u001b[0;32mzmq/backend/cython/socket.pyx\u001b[0m in \u001b[0;36mzmq.backend.cython.socket.Socket.recv\u001b[0;34m()\u001b[0m\n",
            "\u001b[0;32mzmq/backend/cython/socket.pyx\u001b[0m in \u001b[0;36mzmq.backend.cython.socket._recv_copy\u001b[0;34m()\u001b[0m\n",
            "\u001b[0;32m/usr/local/lib/python3.7/dist-packages/zmq/backend/cython/checkrc.pxd\u001b[0m in \u001b[0;36mzmq.backend.cython.checkrc._check_rc\u001b[0;34m()\u001b[0m\n",
            "\u001b[0;31mKeyboardInterrupt\u001b[0m: ",
            "\nDuring handling of the above exception, another exception occurred:\n",
            "\u001b[0;31mKeyboardInterrupt\u001b[0m                         Traceback (most recent call last)",
            "\u001b[0;32m<ipython-input-76-ece7a4a53285>\u001b[0m in \u001b[0;36m<module>\u001b[0;34m()\u001b[0m\n\u001b[1;32m     22\u001b[0m \u001b[0;34m\u001b[0m\u001b[0m\n\u001b[1;32m     23\u001b[0m \u001b[0;31m#    Read the next number\u001b[0m\u001b[0;34m\u001b[0m\u001b[0;34m\u001b[0m\u001b[0;34m\u001b[0m\u001b[0m\n\u001b[0;32m---> 24\u001b[0;31m   \u001b[0mnum\u001b[0m \u001b[0;34m=\u001b[0m \u001b[0minput\u001b[0m\u001b[0;34m(\u001b[0m\u001b[0;34m\"Enter an integer. Enter 0 to end input: \"\u001b[0m\u001b[0;34m)\u001b[0m\u001b[0;34m\u001b[0m\u001b[0;34m\u001b[0m\u001b[0m\n\u001b[0m\u001b[1;32m     25\u001b[0m   \u001b[0;32mif\u001b[0m \u001b[0;34m(\u001b[0m\u001b[0mcount\u001b[0m \u001b[0;34m==\u001b[0m \u001b[0;36m0\u001b[0m\u001b[0;34m)\u001b[0m\u001b[0;34m:\u001b[0m\u001b[0;34m\u001b[0m\u001b[0;34m\u001b[0m\u001b[0m\n\u001b[1;32m     26\u001b[0m     \u001b[0mprint\u001b[0m\u001b[0;34m(\u001b[0m\u001b[0;34m\"No numbers are entered except 0\"\u001b[0m\u001b[0;34m)\u001b[0m\u001b[0;34m\u001b[0m\u001b[0;34m\u001b[0m\u001b[0m\n",
            "\u001b[0;32m/usr/local/lib/python3.7/dist-packages/ipykernel/kernelbase.py\u001b[0m in \u001b[0;36mraw_input\u001b[0;34m(self, prompt)\u001b[0m\n\u001b[1;32m    702\u001b[0m             \u001b[0mself\u001b[0m\u001b[0;34m.\u001b[0m\u001b[0m_parent_ident\u001b[0m\u001b[0;34m,\u001b[0m\u001b[0;34m\u001b[0m\u001b[0;34m\u001b[0m\u001b[0m\n\u001b[1;32m    703\u001b[0m             \u001b[0mself\u001b[0m\u001b[0;34m.\u001b[0m\u001b[0m_parent_header\u001b[0m\u001b[0;34m,\u001b[0m\u001b[0;34m\u001b[0m\u001b[0;34m\u001b[0m\u001b[0m\n\u001b[0;32m--> 704\u001b[0;31m             \u001b[0mpassword\u001b[0m\u001b[0;34m=\u001b[0m\u001b[0;32mFalse\u001b[0m\u001b[0;34m,\u001b[0m\u001b[0;34m\u001b[0m\u001b[0;34m\u001b[0m\u001b[0m\n\u001b[0m\u001b[1;32m    705\u001b[0m         )\n\u001b[1;32m    706\u001b[0m \u001b[0;34m\u001b[0m\u001b[0m\n",
            "\u001b[0;32m/usr/local/lib/python3.7/dist-packages/ipykernel/kernelbase.py\u001b[0m in \u001b[0;36m_input_request\u001b[0;34m(self, prompt, ident, parent, password)\u001b[0m\n\u001b[1;32m    732\u001b[0m             \u001b[0;32mexcept\u001b[0m \u001b[0mKeyboardInterrupt\u001b[0m\u001b[0;34m:\u001b[0m\u001b[0;34m\u001b[0m\u001b[0;34m\u001b[0m\u001b[0m\n\u001b[1;32m    733\u001b[0m                 \u001b[0;31m# re-raise KeyboardInterrupt, to truncate traceback\u001b[0m\u001b[0;34m\u001b[0m\u001b[0;34m\u001b[0m\u001b[0;34m\u001b[0m\u001b[0m\n\u001b[0;32m--> 734\u001b[0;31m                 \u001b[0;32mraise\u001b[0m \u001b[0mKeyboardInterrupt\u001b[0m\u001b[0;34m\u001b[0m\u001b[0;34m\u001b[0m\u001b[0m\n\u001b[0m\u001b[1;32m    735\u001b[0m             \u001b[0;32melse\u001b[0m\u001b[0;34m:\u001b[0m\u001b[0;34m\u001b[0m\u001b[0;34m\u001b[0m\u001b[0m\n\u001b[1;32m    736\u001b[0m                 \u001b[0;32mbreak\u001b[0m\u001b[0;34m\u001b[0m\u001b[0;34m\u001b[0m\u001b[0m\n",
            "\u001b[0;31mKeyboardInterrupt\u001b[0m: "
          ]
        }
      ]
    },
    {
      "cell_type": "code",
      "metadata": {
        "colab": {
          "base_uri": "https://localhost:8080/"
        },
        "id": "gy6TbXIMdGMO",
        "outputId": "77df5a03-33e3-49e7-b4b5-cebe8513b170"
      },
      "source": [
        "# Declare variables to store the budget amount,\n",
        "# amount spent, difference, and total.\n",
        "budget = 0.0\n",
        "difference = 0.0\n",
        "spent = 1.0 #initialize for while loop total = 0.0\n",
        "total = 0.0\n",
        "\n",
        "budget = float(input('Enter amount budgeted for the month: '))\n",
        "\n",
        "# Get the total amount spent from the user. \n",
        "while spent != 0:\n",
        "  spent = float(input('Enter an amount spent(0 to quit): ')) \n",
        "  #add to total\n",
        "  total += spent\n",
        "\n",
        "# Determine whether the user is over or under budget, \n",
        "# and display the result.\n",
        "print ('Budgeted: $', budget) \n",
        "print ('Spent: $', total)\n",
        "\n",
        "if budget > total:\n",
        "  difference = budget - total\n",
        "  print ('You are $', difference,'under budget. WELL DONE!') \n",
        "elif budget < total:\n",
        "  difference = total - budget\n",
        "  print ('You are $', difference,'over budget. PLAN BETTER NEXT TIME!') \n",
        "else:\n",
        "  print ('Spending matches budget. GOOD PLANNING!')\n"
      ],
      "execution_count": null,
      "outputs": [
        {
          "output_type": "stream",
          "name": "stdout",
          "text": [
            "Enter amount budgeted for the month: 4500\n",
            "Enter an amount spent(0 to quit): 1800\n",
            "Enter an amount spent(0 to quit): 300\n",
            "Enter an amount spent(0 to quit): 500\n",
            "Enter an amount spent(0 to quit): 250\n",
            "Enter an amount spent(0 to quit): 700\n",
            "Enter an amount spent(0 to quit): 200\n",
            "Enter an amount spent(0 to quit): 0\n",
            "Budgeted: $ 4500.0\n",
            "Spent: $ 3750.0\n",
            "You are $ 750.0 under budget. WELL DONE!\n"
          ]
        }
      ]
    }
  ]
}